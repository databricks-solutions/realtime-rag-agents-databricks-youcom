{
 "cells": [
  {
   "cell_type": "markdown",
   "metadata": {
    "application/vnd.databricks.v1+cell": {
     "cellMetadata": {},
     "inputWidgets": {},
     "nuid": "3fac135a-dd39-4963-98d7-9c5a8c1da35a",
     "showTitle": false,
     "tableResultSettingsMap": {},
     "title": ""
    }
   },
   "source": "You may find this series of notebooks at [databricks-solutions/realtime-rag-agents-databricks-youcom](https://github.com/databricks-solutions/realtime-rag-agents-databricks-youcom). For more information about this solution accelerator, visit the [blog post](https://you.com/articles/unlocking-real-time-intelligence-for-ai-agents-with-you.com-and-databricks)."
  },
  {
   "cell_type": "code",
   "execution_count": 0,
   "metadata": {
    "application/vnd.databricks.v1+cell": {
     "cellMetadata": {},
     "inputWidgets": {},
     "nuid": "da906cf3-80bb-4bbf-b3d5-cfa5d5f8ab31",
     "showTitle": false,
     "tableResultSettingsMap": {},
     "title": ""
    }
   },
   "outputs": [],
   "source": [
    "dbutils.library.restartPython()"
   ]
  },
  {
   "cell_type": "code",
   "execution_count": 0,
   "metadata": {
    "application/vnd.databricks.v1+cell": {
     "cellMetadata": {},
     "inputWidgets": {},
     "nuid": "ecb17e7e-2b91-4a17-817d-3cafee8d8640",
     "showTitle": false,
     "tableResultSettingsMap": {},
     "title": ""
    }
   },
   "outputs": [],
   "source": [
    "import pandas as pd\n",
    "import pyspark.sql.functions as F\n",
    "import io\n",
    "import yaml\n",
    "\n",
    "import mlflow\n",
    "\n",
    "import mlflow.genai.datasets\n",
    "\n",
    "import requests\n",
    "\n",
    "from agent import AGENT\n",
    "\n",
    "from mlflow.genai.scorers import (\n",
    "    RetrievalGroundedness,\n",
    "    RelevanceToQuery,\n",
    "    Safety,\n",
    "    Guidelines,\n",
    "    Correctness\n",
    ")"
   ]
  },
  {
   "cell_type": "markdown",
   "metadata": {
    "application/vnd.databricks.v1+cell": {
     "cellMetadata": {},
     "inputWidgets": {},
     "nuid": "fc5cf717-9a44-49ce-9d6d-ab02d65ef12c",
     "showTitle": false,
     "tableResultSettingsMap": {},
     "title": ""
    }
   },
   "source": [
    "# Create Agent\n",
    "\n",
    "1. Use the preivous configurations to stream responses from the defined agent.\n",
    "\n",
    "2. Create a seed dataset that will be evaluated in `04-evaluate-agent`\n"
   ]
  },
  {
   "cell_type": "markdown",
   "metadata": {
    "application/vnd.databricks.v1+cell": {
     "cellMetadata": {},
     "inputWidgets": {},
     "nuid": "e9c36d77-7795-4b04-a1c7-394c28be9ede",
     "showTitle": false,
     "tableResultSettingsMap": {},
     "title": ""
    }
   },
   "source": [
    "## 0. Load Configurations from `01-agent-configs`"
   ]
  },
  {
   "cell_type": "code",
   "execution_count": 0,
   "metadata": {
    "application/vnd.databricks.v1+cell": {
     "cellMetadata": {},
     "inputWidgets": {},
     "nuid": "2f3ec80f-a271-47d0-ac70-9ca289e5e2bc",
     "showTitle": false,
     "tableResultSettingsMap": {},
     "title": ""
    }
   },
   "outputs": [],
   "source": [
    "# load the configuration settings from earlier\n",
    "cfg = yaml.safe_load(open(\"common.yaml\"))\n",
    "\n",
    "catalog = cfg.get(\"catalog\", \"main\")\n",
    "schema = cfg.get(\"schema\", \"default\")\n",
    "\n",
    "uc_schema = f\"{catalog}.{schema}\"\n",
    "# This table will be created in the above UC schema\n",
    "evaluation_dataset_table_name = \"test_evaluation_set\"\n",
    "\n",
    "evaluation_dataset_path = f\"{catalog}.{schema}.{evaluation_dataset_table_name}\""
   ]
  },
  {
   "cell_type": "code",
   "execution_count": 0,
   "metadata": {
    "application/vnd.databricks.v1+cell": {
     "cellMetadata": {},
     "inputWidgets": {},
     "nuid": "702bb9cb-cb26-45be-8222-3cba015bfd2d",
     "showTitle": false,
     "tableResultSettingsMap": {},
     "title": ""
    }
   },
   "outputs": [],
   "source": [
    "notebook_path = dbutils.notebook.entry_point.getDbutils().notebook().getContext().notebookPath().get()\n",
    "experiment_name = notebook_path + \"_exp\"\n",
    "\n",
    "mlflow.set_tracking_uri(\"databricks\")\n",
    "mlflow.set_experiment(experiment_name)"
   ]
  },
  {
   "cell_type": "code",
   "execution_count": 0,
   "metadata": {
    "application/vnd.databricks.v1+cell": {
     "cellMetadata": {},
     "inputWidgets": {},
     "nuid": "f3060c7a-6c63-4e8d-a6b2-0af20d84bd85",
     "showTitle": false,
     "tableResultSettingsMap": {},
     "title": ""
    }
   },
   "outputs": [],
   "source": [
    "def create_message_payload(question):\n",
    "  return {\"messages\": [{\"role\": \"user\", \"content\": question}]}"
   ]
  },
  {
   "cell_type": "markdown",
   "metadata": {
    "application/vnd.databricks.v1+cell": {
     "cellMetadata": {},
     "inputWidgets": {},
     "nuid": "cbd5c8de-33a3-42db-a939-0190a381f5aa",
     "showTitle": false,
     "tableResultSettingsMap": {},
     "title": ""
    }
   },
   "source": [
    "## 1. Stream Agent's Response"
   ]
  },
  {
   "cell_type": "code",
   "execution_count": 0,
   "metadata": {
    "application/vnd.databricks.v1+cell": {
     "cellMetadata": {},
     "inputWidgets": {},
     "nuid": "77be1b50-dbe3-4bae-b4b2-026d4eace353",
     "showTitle": false,
     "tableResultSettingsMap": {},
     "title": ""
    }
   },
   "outputs": [],
   "source": [
    "question = \"What is the capital of France?\"\n",
    "message = create_message_payload(question)\n",
    "\n",
    "resp = AGENT.predict(message)\n",
    "print(resp)"
   ]
  },
  {
   "cell_type": "code",
   "execution_count": 0,
   "metadata": {
    "application/vnd.databricks.v1+cell": {
     "cellMetadata": {},
     "inputWidgets": {},
     "nuid": "c4d170c4-4c03-4b6e-9c4d-1f1acaa5a583",
     "showTitle": false,
     "tableResultSettingsMap": {},
     "title": ""
    }
   },
   "outputs": [],
   "source": [
    "# stream the Assistant's response\n",
    "for chunk in AGENT.predict_stream(message):\n",
    "  if chunk.delta.role == \"assistant\":\n",
    "    print(chunk.delta.content)"
   ]
  },
  {
   "cell_type": "markdown",
   "metadata": {
    "application/vnd.databricks.v1+cell": {
     "cellMetadata": {},
     "inputWidgets": {},
     "nuid": "1e175ef2-c929-4368-9a35-a8279c80fc81",
     "showTitle": false,
     "tableResultSettingsMap": {},
     "title": ""
    }
   },
   "source": [
    "## 2. Seed Examples for Evaluation Dataset\n",
    "\n",
    "Use the AGENT to predict a couple example questions. Then use the Traces to seed an Evaluation Dataset."
   ]
  },
  {
   "cell_type": "code",
   "execution_count": 0,
   "metadata": {
    "application/vnd.databricks.v1+cell": {
     "cellMetadata": {},
     "inputWidgets": {},
     "nuid": "36c63c1c-3004-4c76-b78f-3c4cf60bc064",
     "showTitle": false,
     "tableResultSettingsMap": {},
     "title": ""
    }
   },
   "outputs": [],
   "source": [
    "questions = [\"What is the capital of Germany?\", \n",
    "             \"Who won the Women's 800m Freestyle at the most recent World Swimming Championships?\", ]\n",
    "\n",
    "run_id = None\n",
    "with mlflow.start_run() as run:\n",
    "  for q in questions:\n",
    "    message = create_message_payload(q)\n",
    "    resp = AGENT.predict(message)\n",
    "\n",
    "  run_id = run.info.run_id"
   ]
  }
 ],
 "metadata": {
  "application/vnd.databricks.v1+notebook": {
   "computePreferences": null,
   "dashboards": [],
   "environmentMetadata": {
    "base_environment": "dbe_0c235d96-4bc7-4fb5-b118-17fd1dad0124",
    "environment_version": "4"
   },
   "inputWidgetPreferences": null,
   "language": "python",
   "notebookMetadata": {
    "pythonIndentUnit": 4
   },
   "notebookName": "03-create-agent",
   "widgets": {}
  },
  "language_info": {
   "name": "python"
  }
 },
 "nbformat": 4,
 "nbformat_minor": 0
}