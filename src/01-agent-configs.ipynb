{
 "cells": [
  {
   "cell_type": "markdown",
   "metadata": {
    "application/vnd.databricks.v1+cell": {
     "cellMetadata": {},
     "inputWidgets": {},
     "nuid": "c1b0ed1e-91cf-48eb-a25c-8023b1f1e39d",
     "showTitle": false,
     "tableResultSettingsMap": {},
     "title": ""
    }
   },
   "source": "You may find this series of notebooks at [databricks-solutions/realtime-rag-agents-databricks-youcom](https://github.com/databricks-solutions/realtime-rag-agents-databricks-youcom). For more information about this solution accelerator, visit the [blog post](https://you.com/articles/unlocking-real-time-intelligence-for-ai-agents-with-you.com-and-databricks)."
  },
  {
   "cell_type": "code",
   "execution_count": 0,
   "metadata": {
    "application/vnd.databricks.v1+cell": {
     "cellMetadata": {
      "byteLimit": 2048000,
      "rowLimit": 10000
     },
     "inputWidgets": {},
     "nuid": "79e8750b-d04f-4fdb-891b-574c0c2258bb",
     "showTitle": false,
     "tableResultSettingsMap": {},
     "title": ""
    }
   },
   "outputs": [],
   "source": [
    "%pip install -U -qqqq mlflow-skinny[databricks]>=3.1.0 langgraph==0.3.4 databricks-langchain databricks-agents uv gspread google-auth\n",
    "dbutils.library.restartPython()"
   ]
  },
  {
   "cell_type": "code",
   "execution_count": 0,
   "metadata": {
    "application/vnd.databricks.v1+cell": {
     "cellMetadata": {},
     "inputWidgets": {},
     "nuid": "03957154-0f8d-4977-a407-29721c27b2c0",
     "showTitle": false,
     "tableResultSettingsMap": {},
     "title": ""
    }
   },
   "outputs": [],
   "source": [
    "import pandas as pd\n",
    "import pyspark.sql.functions as F\n",
    "import io\n",
    "import yaml"
   ]
  },
  {
   "cell_type": "markdown",
   "metadata": {
    "application/vnd.databricks.v1+cell": {
     "cellMetadata": {},
     "inputWidgets": {},
     "nuid": "ab196ac2-619b-41a0-bf2a-1a74c86f4337",
     "showTitle": false,
     "tableResultSettingsMap": {},
     "title": ""
    }
   },
   "source": [
    "# Agent Configs\n",
    "\n",
    "1. Create a [Connection](https://docs.databricks.com/aws/en/connect/) to access the You.com Search API. \n",
    "\n",
    "    * This connection definition assumes that You.com API key is persisted as a Databricks [Secret](https://docs.databricks.com/aws/en/security/secrets/).\n",
    "\n",
    "2. Create a [UC Function](https://docs.databricks.com/aws/en/udf/unity-catalog) that makes an [http_request](https://docs.databricks.com/aws/en/sql/language-manual/functions/http_request) using the connection to perform search for user's query.\n"
   ]
  },
  {
   "cell_type": "markdown",
   "metadata": {
    "application/vnd.databricks.v1+cell": {
     "cellMetadata": {},
     "inputWidgets": {},
     "nuid": "a1298ae9-71a8-4b15-af6a-0271bcea7bf1",
     "showTitle": false,
     "tableResultSettingsMap": {},
     "title": ""
    }
   },
   "source": [
    "## 0. Initial Configurations\n",
    "\n",
    "**USER TASK**: Fill in the command below with the `catalog` and `schema` to use for storing the UC Function and MLflow Evaluate Datasets."
   ]
  },
  {
   "cell_type": "code",
   "execution_count": 0,
   "metadata": {
    "application/vnd.databricks.v1+cell": {
     "cellMetadata": {
      "byteLimit": 2048000,
      "rowLimit": 10000
     },
     "inputWidgets": {},
     "nuid": "93fca458-0afd-4c2f-b9fa-05e70d2f74c8",
     "showTitle": false,
     "tableResultSettingsMap": {},
     "title": ""
    }
   },
   "outputs": [],
   "source": [
    "%%writefile common.yaml\n",
    "\n",
    "catalog: # TODO: Fill in with UC Catalog\n",
    "schema: # TODO: Fill in with UC Schema\n",
    "  \n",
    "secret_scope: # TODO: Fill in with Secret Scope where You.com API key\n",
    "secret_key: # TODO: Fill in with Secret Key for You.com API key"
   ]
  },
  {
   "cell_type": "markdown",
   "metadata": {
    "application/vnd.databricks.v1+cell": {
     "cellMetadata": {},
     "inputWidgets": {},
     "nuid": "df4ca251-cc43-4731-8ecc-036240986c26",
     "showTitle": false,
     "tableResultSettingsMap": {},
     "title": ""
    }
   },
   "source": [
    "## 1. Load Configurations"
   ]
  },
  {
   "cell_type": "code",
   "execution_count": 0,
   "metadata": {
    "application/vnd.databricks.v1+cell": {
     "cellMetadata": {},
     "inputWidgets": {},
     "nuid": "d6d091e8-4995-429f-b860-c774662b894b",
     "showTitle": false,
     "tableResultSettingsMap": {},
     "title": ""
    }
   },
   "outputs": [],
   "source": [
    "cfg = yaml.safe_load(open(\"common.yaml\"))\n",
    "\n",
    "catalog = cfg.get(\"catalog\", \"main\")\n",
    "schema = cfg.get(\"schema\", \"default\")\n",
    "\n",
    "secret_scope = cfg.get(\"secret_scope\", None)\n",
    "secret_key = cfg.get(\"secret_key\", None)\n",
    "\n",
    "function_name = \"you_com_search_function\"\n",
    "\n",
    "function_path = f\"{catalog}.{schema}.{function_name}\"\n",
    "\n",
    "connection = \"you_com_connection\"\n",
    "\n",
    "assert secret_scope is not None and secret_scope != \"\", \"Missing secret scope configuration\"\n",
    "assert secret_key is not None and secret_key != \"\", \"Missing secret key configuration\""
   ]
  },
  {
   "cell_type": "markdown",
   "metadata": {
    "application/vnd.databricks.v1+cell": {
     "cellMetadata": {},
     "inputWidgets": {},
     "nuid": "b353bcd5-6f61-44ae-8680-a2513a2693cd",
     "showTitle": false,
     "tableResultSettingsMap": {},
     "title": ""
    }
   },
   "source": [
    "## 2. Create Connection and UC Function"
   ]
  },
  {
   "cell_type": "code",
   "execution_count": 0,
   "metadata": {
    "application/vnd.databricks.v1+cell": {
     "cellMetadata": {},
     "inputWidgets": {},
     "nuid": "85bf65b6-9e64-4857-acbe-a397d9d06b6f",
     "showTitle": false,
     "tableResultSettingsMap": {},
     "title": ""
    }
   },
   "outputs": [],
   "source": [
    "host = \"https://api.ydc-index.io\"\n",
    "port = 443\n",
    "api_path = \"/v2/search\"\n",
    "sql_query = f\"\"\"CREATE CONNECTION IF NOT EXISTS {connection}\n",
    "TYPE HTTP\n",
    "OPTIONS (\n",
    "  host '{host}',\n",
    "  port {port},\n",
    "  base_path '{api_path}',\n",
    "  bearer_token secret('{secret_scope}', '{secret_key}')\n",
    ")\"\"\"\n",
    "\n",
    "spark.sql(sql_query)"
   ]
  },
  {
   "cell_type": "code",
   "execution_count": 0,
   "metadata": {
    "application/vnd.databricks.v1+cell": {
     "cellMetadata": {},
     "inputWidgets": {},
     "nuid": "211a03c1-5c17-4702-bc7b-54a9182ec52d",
     "showTitle": false,
     "tableResultSettingsMap": {},
     "title": ""
    }
   },
   "outputs": [],
   "source": [
    "sql_query = f\"\"\"CREATE OR REPLACE FUNCTION {function_path}(query STRING)\n",
    "RETURNS STRING\n",
    "COMMENT 'Search for information relative to the query'\n",
    "RETURN (\n",
    "  http_request(\n",
    "    conn => \"{connection}\",\n",
    "    method => \"GET\",\n",
    "    path => concat('?query=', url_encode(query))\n",
    "  ).text\n",
    ")\"\"\"\n",
    "print(sql_query)\n",
    "spark.sql(sql_query)"
   ]
  },
  {
   "cell_type": "markdown",
   "metadata": {
    "application/vnd.databricks.v1+cell": {
     "cellMetadata": {},
     "inputWidgets": {},
     "nuid": "cca1a251-9529-4629-8c6e-f55a94ed3452",
     "showTitle": false,
     "tableResultSettingsMap": {},
     "title": ""
    }
   },
   "source": [
    "## [OPTIONAL] 3. Test UC Function "
   ]
  },
  {
   "cell_type": "code",
   "execution_count": 0,
   "metadata": {
    "application/vnd.databricks.v1+cell": {
     "cellMetadata": {},
     "inputWidgets": {},
     "nuid": "65743f20-6bc5-4aee-94c7-291fb8cc8ffa",
     "showTitle": false,
     "tableResultSettingsMap": {},
     "title": ""
    }
   },
   "outputs": [],
   "source": [
    "df = spark.createDataFrame(pd.DataFrame({\"query\": [\"What is the capital of France?\"]}))\n",
    "\n",
    "display(df.withColumn(\"search_results\", F.expr(f\"{function_path}(query)\")))"
   ]
  }
 ],
 "metadata": {
  "application/vnd.databricks.v1+notebook": {
   "computePreferences": null,
   "dashboards": [],
   "environmentMetadata": {
    "base_environment": "dbe_0c235d96-4bc7-4fb5-b118-17fd1dad0124",
    "environment_version": "4"
   },
   "inputWidgetPreferences": null,
   "language": "python",
   "notebookMetadata": {
    "pythonIndentUnit": 4
   },
   "notebookName": "01-agent-configs",
   "widgets": {}
  },
  "language_info": {
   "name": "python"
  }
 },
 "nbformat": 4,
 "nbformat_minor": 0
}